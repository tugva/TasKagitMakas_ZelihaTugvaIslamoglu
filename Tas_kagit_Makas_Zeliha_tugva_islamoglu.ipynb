{
 "cells": [
  {
   "cell_type": "code",
   "execution_count": 8,
   "id": "f492d29f-828a-4c3d-891d-b1807cb4f580",
   "metadata": {},
   "outputs": [
    {
     "name": "stdout",
     "output_type": "stream",
     "text": [
      "✨ Taş, Kağıt, Makas oyununa hoş geldiniz! ✨\n",
      "Kurallar: Taş makası yener, Makas kağıdı yener, Kağıt taşı yener.\n",
      "İlk iki turu kazanan oyunun galibi olacaktır.\n",
      "Unutmayın, oyundan çıkmak için 'Z' tuşuna basabilirsiniz. Cesaretinizi toplayın ve başlayalım! 💪\n",
      "\n"
     ]
    },
    {
     "name": "stdin",
     "output_type": "stream",
     "text": [
      "Ne seçeceksiniz? Taş mı, Kağıt mı, Makas mı? (Çıkmak için 'Z' tuşuna basın):  taş\n"
     ]
    },
    {
     "name": "stdout",
     "output_type": "stream",
     "text": [
      "\n",
      "Bilgisayar 'düşündü' ve Makas seçti. Sizce kim kazanacak?\n",
      "Bu turda siz kazandınız! Tebrikler, bilgisayarı alt ettiniz! 🎉\n",
      "\n",
      "Tur Skoru: 🧑 Oyuncu 1 - 0 🤖 Bilgisayar\n",
      "\n"
     ]
    },
    {
     "name": "stdin",
     "output_type": "stream",
     "text": [
      "Ne seçeceksiniz? Taş mı, Kağıt mı, Makas mı? (Çıkmak için 'Z' tuşuna basın):  taş\n"
     ]
    },
    {
     "name": "stdout",
     "output_type": "stream",
     "text": [
      "\n",
      "Bilgisayar 'düşündü' ve Makas seçti. Sizce kim kazanacak?\n",
      "Bu turda siz kazandınız! Tebrikler, bilgisayarı alt ettiniz! 🎉\n",
      "\n",
      "Tur Skoru: 🧑 Oyuncu 2 - 0 🤖 Bilgisayar\n",
      "\n",
      "🎊 Tebrikler, oyunu kazandınız! Bilgisayar sizden öğreniyor olabilir... 😎\n",
      "\n",
      "Genel Skor: 🧑 Oyuncu 1 - 0 🤖 Bilgisayar\n",
      "\n"
     ]
    },
    {
     "name": "stdin",
     "output_type": "stream",
     "text": [
      "Bir tur daha oynamak ister misiniz? (Evet/Hayır):  evet\n"
     ]
    },
    {
     "name": "stdout",
     "output_type": "stream",
     "text": [
      "Bilgisayar oyuna devam etmek istiyor!\n",
      "\n",
      "Yeni tur başlıyor! Hazırlanın! 🚀\n",
      "\n"
     ]
    },
    {
     "name": "stdin",
     "output_type": "stream",
     "text": [
      "Ne seçeceksiniz? Taş mı, Kağıt mı, Makas mı? (Çıkmak için 'Z' tuşuna basın):  taş\n"
     ]
    },
    {
     "name": "stdout",
     "output_type": "stream",
     "text": [
      "\n",
      "Bilgisayar 'düşündü' ve Makas seçti. Sizce kim kazanacak?\n",
      "Bu turda siz kazandınız! Tebrikler, bilgisayarı alt ettiniz! 🎉\n",
      "\n",
      "Tur Skoru: 🧑 Oyuncu 1 - 0 🤖 Bilgisayar\n",
      "\n"
     ]
    },
    {
     "name": "stdin",
     "output_type": "stream",
     "text": [
      "Ne seçeceksiniz? Taş mı, Kağıt mı, Makas mı? (Çıkmak için 'Z' tuşuna basın):  taş\n"
     ]
    },
    {
     "name": "stdout",
     "output_type": "stream",
     "text": [
      "\n",
      "Bilgisayar 'düşündü' ve Makas seçti. Sizce kim kazanacak?\n",
      "Bu turda siz kazandınız! Tebrikler, bilgisayarı alt ettiniz! 🎉\n",
      "\n",
      "Tur Skoru: 🧑 Oyuncu 2 - 0 🤖 Bilgisayar\n",
      "\n",
      "🎊 Tebrikler, oyunu kazandınız! Bilgisayar sizden öğreniyor olabilir... 😎\n",
      "\n",
      "Genel Skor: 🧑 Oyuncu 2 - 0 🤖 Bilgisayar\n",
      "\n"
     ]
    },
    {
     "name": "stdin",
     "output_type": "stream",
     "text": [
      "Bir tur daha oynamak ister misiniz? (Evet/Hayır):  evet\n"
     ]
    },
    {
     "name": "stdout",
     "output_type": "stream",
     "text": [
      "Bilgisayar artık oynamak istemiyor!\n",
      "\n",
      "Bilgisayar oynamayı bıraktı... 👋\n"
     ]
    }
   ],
   "source": [
    "import random\n",
    "\n",
    "def tas_kagit_makas_ZELIHA_TUGVA_ISLAMOGLU():\n",
    "    print(\"✨ Taş, Kağıt, Makas oyununa hoş geldiniz! ✨\")\n",
    "    print(\"Kurallar: Taş makası yener, Makas kağıdı yener, Kağıt taşı yener.\")\n",
    "    print(\"İlk iki turu kazanan oyunun galibi olacaktır.\")\n",
    "    print(\"Unutmayın, oyundan çıkmak için 'Z' tuşuna basabilirsiniz. Cesaretinizi toplayın ve başlayalım! 💪\\n\")\n",
    "\n",
    "    secenekler = [\"Taş\", \"Kağıt\", \"Makas\"]\n",
    "    toplam_oyuncu_galibiyet = 0\n",
    "    toplam_bilgisayar_galibiyet = 0\n",
    "    \n",
    "    while True:\n",
    "        oyuncu_galibiyet = 0\n",
    "        bilgisayar_galibiyet = 0\n",
    "\n",
    "        while oyuncu_galibiyet < 2 and bilgisayar_galibiyet < 2:\n",
    "            oyuncu_secimi = input(\"Ne seçeceksiniz? Taş mı, Kağıt mı, Makas mı? (Çıkmak için 'Z' tuşuna basın): \").capitalize()\n",
    "\n",
    "            if oyuncu_secimi == 'Z':\n",
    "                print(\"\\nOyundan kaçıyorsunuz, ha? 😏 Yine de görüşmek üzere!\")\n",
    "                return\n",
    "\n",
    "            if oyuncu_secimi not in secenekler:\n",
    "                print(\"\\nBu geçersiz bir seçim! Lütfen Taş, Kağıt veya Makas seçin. Bu sefer doğru yapın! 😜\\n\")\n",
    "                continue\n",
    "\n",
    "            bilgisayar_secimi = random.choice(secenekler)\n",
    "            print(f\"\\nBilgisayar 'düşündü' ve {bilgisayar_secimi} seçti. Sizce kim kazanacak?\")\n",
    "\n",
    "            if (oyuncu_secimi == \"Taş\" and bilgisayar_secimi == \"Makas\") or \\\n",
    "               (oyuncu_secimi == \"Makas\" and bilgisayar_secimi == \"Kağıt\") or \\\n",
    "               (oyuncu_secimi == \"Kağıt\" and bilgisayar_secimi == \"Taş\"):\n",
    "                print(\"Bu turda siz kazandınız! Tebrikler, bilgisayarı alt ettiniz! 🎉\")\n",
    "                oyuncu_galibiyet += 1\n",
    "            elif oyuncu_secimi == bilgisayar_secimi:\n",
    "                print(\"Bu turda berabere kaldınız! Yine de iyi oynadınız! 😄\")\n",
    "            else:\n",
    "                print(\"Bilgisayar bu turu kazandı! Belki de gizli bir stratejisi var? 🤖\")\n",
    "                bilgisayar_galibiyet += 1\n",
    "\n",
    "            # Her turun ardından skorları göster\n",
    "            print(f\"\\nTur Skoru: 🧑 Oyuncu {oyuncu_galibiyet} - {bilgisayar_galibiyet} 🤖 Bilgisayar\\n\")\n",
    "\n",
    "        if oyuncu_galibiyet == 2:\n",
    "            print(\"🎊 Tebrikler, oyunu kazandınız! Bilgisayar sizden öğreniyor olabilir... 😎\")\n",
    "            toplam_oyuncu_galibiyet += 1\n",
    "        else:\n",
    "            print(\"Bilgisayar oyunu kazandı! Onunla tekrar mücadele etmeye hazır mısınız? 🤔\")\n",
    "            toplam_bilgisayar_galibiyet += 1\n",
    "\n",
    "        # Genel skorları göster\n",
    "        print(f\"\\nGenel Skor: 🧑 Oyuncu {toplam_oyuncu_galibiyet} - {toplam_bilgisayar_galibiyet} 🤖 Bilgisayar\\n\")\n",
    "\n",
    "        # Oyuncuya devam etmek isteyip istemediğini sor\n",
    "        devam_oyuncu = input(\"Bir tur daha oynamak ister misiniz? (Evet/Hayır): \").capitalize()\n",
    "        if devam_oyuncu != 'Evet':\n",
    "            print(\"\\nOyundan çıkıyorsunuz... 👋\")\n",
    "            break\n",
    "\n",
    "        # Bilgisayara devam edip etmek istemediğini rastgele belirle\n",
    "        devam_bilgisayar = random.choice(['Evet', 'Hayır'])\n",
    "        print(f\"Bilgisayar {'oyuna devam etmek istiyor!' if devam_bilgisayar == 'Evet' else 'artık oynamak istemiyor!'}\")\n",
    "\n",
    "        if devam_bilgisayar != 'Evet':\n",
    "            print(\"\\nBilgisayar oynamayı bıraktı... 👋\")\n",
    "            break\n",
    "\n",
    "        print(\"\\nYeni tur başlıyor! Hazırlanın! 🚀\\n\")\n",
    "\n",
    "# Oyunu başlatmak için fonksiyonu çağırabilirsiniz\n",
    "tas_kagit_makas_ZELIHA_TUGVA_ISLAMOGLU()\n"
   ]
  }
 ],
 "metadata": {
  "kernelspec": {
   "display_name": "Python 3 (ipykernel)",
   "language": "python",
   "name": "python3"
  },
  "language_info": {
   "codemirror_mode": {
    "name": "ipython",
    "version": 3
   },
   "file_extension": ".py",
   "mimetype": "text/x-python",
   "name": "python",
   "nbconvert_exporter": "python",
   "pygments_lexer": "ipython3",
   "version": "3.12.5"
  }
 },
 "nbformat": 4,
 "nbformat_minor": 5
}
